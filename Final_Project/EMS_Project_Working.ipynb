{
 "cells": [
  {
   "cell_type": "code",
   "execution_count": 3,
   "metadata": {},
   "outputs": [],
   "source": [
    "import pandas as pd\n",
    "import matplotlib.pyplot as plt\n",
    "import seaborn as sns"
   ]
  },
  {
   "cell_type": "code",
   "execution_count": 4,
   "metadata": {},
   "outputs": [],
   "source": [
    "from pandas.io import sql\n",
    "from sqlalchemy import create_engine\n"
   ]
  },
  {
   "cell_type": "code",
   "execution_count": 11,
   "metadata": {},
   "outputs": [
    {
     "name": "stderr",
     "output_type": "stream",
     "text": [
      "/Users/kylemcnicoll/opt/anaconda3/lib/python3.7/site-packages/IPython/core/interactiveshell.py:3058: DtypeWarning: Columns (14,15) have mixed types. Specify dtype option on import or set low_memory=False.\n",
      "  interactivity=interactivity, compiler=compiler, result=result)\n"
     ]
    }
   ],
   "source": [
    "data = pd.read_csv(\"EMS_Incident_Dispatch_Data.csv\") "
   ]
  },
  {
   "cell_type": "code",
   "execution_count": 12,
   "metadata": {},
   "outputs": [
    {
     "data": {
      "text/html": [
       "<div>\n",
       "<style scoped>\n",
       "    .dataframe tbody tr th:only-of-type {\n",
       "        vertical-align: middle;\n",
       "    }\n",
       "\n",
       "    .dataframe tbody tr th {\n",
       "        vertical-align: top;\n",
       "    }\n",
       "\n",
       "    .dataframe thead th {\n",
       "        text-align: right;\n",
       "    }\n",
       "</style>\n",
       "<table border=\"1\" class=\"dataframe\">\n",
       "  <thead>\n",
       "    <tr style=\"text-align: right;\">\n",
       "      <th></th>\n",
       "      <th>CAD_INCIDENT_ID</th>\n",
       "      <th>INCIDENT_DATETIME</th>\n",
       "      <th>INITIAL_CALL_TYPE</th>\n",
       "      <th>INITIAL_SEVERITY_LEVEL_CODE</th>\n",
       "      <th>FINAL_CALL_TYPE</th>\n",
       "      <th>FINAL_SEVERITY_LEVEL_CODE</th>\n",
       "      <th>FIRST_ASSIGNMENT_DATETIME</th>\n",
       "      <th>VALID_DISPATCH_RSPNS_TIME_INDC</th>\n",
       "      <th>DISPATCH_RESPONSE_SECONDS_QY</th>\n",
       "      <th>FIRST_ACTIVATION_DATETIME</th>\n",
       "      <th>...</th>\n",
       "      <th>ZIPCODE</th>\n",
       "      <th>POLICEPRECINCT</th>\n",
       "      <th>CITYCOUNCILDISTRICT</th>\n",
       "      <th>COMMUNITYDISTRICT</th>\n",
       "      <th>COMMUNITYSCHOOLDISTRICT</th>\n",
       "      <th>CONGRESSIONALDISTRICT</th>\n",
       "      <th>REOPEN_INDICATOR</th>\n",
       "      <th>SPECIAL_EVENT_INDICATOR</th>\n",
       "      <th>STANDBY_INDICATOR</th>\n",
       "      <th>TRANSFER_INDICATOR</th>\n",
       "    </tr>\n",
       "  </thead>\n",
       "  <tbody>\n",
       "    <tr>\n",
       "      <td>3573494</td>\n",
       "      <td>152272229</td>\n",
       "      <td>08/15/2015 01:40:47 PM</td>\n",
       "      <td>DRUG</td>\n",
       "      <td>4</td>\n",
       "      <td>DRUG</td>\n",
       "      <td>4</td>\n",
       "      <td>08/15/2015 01:40:59 PM</td>\n",
       "      <td>Y</td>\n",
       "      <td>12</td>\n",
       "      <td>08/15/2015 01:41:10 PM</td>\n",
       "      <td>...</td>\n",
       "      <td>10453.0</td>\n",
       "      <td>46.0</td>\n",
       "      <td>14.0</td>\n",
       "      <td>205.0</td>\n",
       "      <td>10.0</td>\n",
       "      <td>15.0</td>\n",
       "      <td>N</td>\n",
       "      <td>N</td>\n",
       "      <td>N</td>\n",
       "      <td>N</td>\n",
       "    </tr>\n",
       "    <tr>\n",
       "      <td>6924421</td>\n",
       "      <td>173411072</td>\n",
       "      <td>12/07/2017 09:17:21 AM</td>\n",
       "      <td>JUMPDN</td>\n",
       "      <td>2</td>\n",
       "      <td>JUMPDN</td>\n",
       "      <td>2</td>\n",
       "      <td>12/07/2017 09:17:36 AM</td>\n",
       "      <td>Y</td>\n",
       "      <td>15</td>\n",
       "      <td>12/07/2017 09:18:03 AM</td>\n",
       "      <td>...</td>\n",
       "      <td>10451.0</td>\n",
       "      <td>40.0</td>\n",
       "      <td>8.0</td>\n",
       "      <td>201.0</td>\n",
       "      <td>7.0</td>\n",
       "      <td>15.0</td>\n",
       "      <td>N</td>\n",
       "      <td>N</td>\n",
       "      <td>N</td>\n",
       "      <td>N</td>\n",
       "    </tr>\n",
       "    <tr>\n",
       "      <td>5049306</td>\n",
       "      <td>162371613</td>\n",
       "      <td>08/24/2016 11:13:31 AM</td>\n",
       "      <td>INJMAJ</td>\n",
       "      <td>3</td>\n",
       "      <td>INJMAJ</td>\n",
       "      <td>3</td>\n",
       "      <td>08/24/2016 11:13:44 AM</td>\n",
       "      <td>Y</td>\n",
       "      <td>13</td>\n",
       "      <td>08/24/2016 11:14:21 AM</td>\n",
       "      <td>...</td>\n",
       "      <td>11102.0</td>\n",
       "      <td>114.0</td>\n",
       "      <td>22.0</td>\n",
       "      <td>401.0</td>\n",
       "      <td>30.0</td>\n",
       "      <td>12.0</td>\n",
       "      <td>N</td>\n",
       "      <td>N</td>\n",
       "      <td>N</td>\n",
       "      <td>N</td>\n",
       "    </tr>\n",
       "    <tr>\n",
       "      <td>843985</td>\n",
       "      <td>132323617</td>\n",
       "      <td>08/20/2013 09:37:38 PM</td>\n",
       "      <td>INJURY</td>\n",
       "      <td>5</td>\n",
       "      <td>INJURY</td>\n",
       "      <td>5</td>\n",
       "      <td>08/20/2013 09:38:04 PM</td>\n",
       "      <td>Y</td>\n",
       "      <td>26</td>\n",
       "      <td>08/20/2013 09:38:24 PM</td>\n",
       "      <td>...</td>\n",
       "      <td>11220.0</td>\n",
       "      <td>68.0</td>\n",
       "      <td>43.0</td>\n",
       "      <td>310.0</td>\n",
       "      <td>20.0</td>\n",
       "      <td>11.0</td>\n",
       "      <td>N</td>\n",
       "      <td>N</td>\n",
       "      <td>N</td>\n",
       "      <td>N</td>\n",
       "    </tr>\n",
       "    <tr>\n",
       "      <td>7824339</td>\n",
       "      <td>181923721</td>\n",
       "      <td>07/11/2018 06:32:49 PM</td>\n",
       "      <td>INJMIN</td>\n",
       "      <td>7</td>\n",
       "      <td>INJMIN</td>\n",
       "      <td>7</td>\n",
       "      <td>07/11/2018 06:33:01 PM</td>\n",
       "      <td>Y</td>\n",
       "      <td>12</td>\n",
       "      <td>07/11/2018 06:33:10 PM</td>\n",
       "      <td>...</td>\n",
       "      <td>10306.0</td>\n",
       "      <td>122.0</td>\n",
       "      <td>50.0</td>\n",
       "      <td>503.0</td>\n",
       "      <td>31.0</td>\n",
       "      <td>11.0</td>\n",
       "      <td>N</td>\n",
       "      <td>N</td>\n",
       "      <td>N</td>\n",
       "      <td>N</td>\n",
       "    </tr>\n",
       "  </tbody>\n",
       "</table>\n",
       "<p>5 rows × 31 columns</p>\n",
       "</div>"
      ],
      "text/plain": [
       "         CAD_INCIDENT_ID       INCIDENT_DATETIME INITIAL_CALL_TYPE  \\\n",
       "3573494        152272229  08/15/2015 01:40:47 PM              DRUG   \n",
       "6924421        173411072  12/07/2017 09:17:21 AM            JUMPDN   \n",
       "5049306        162371613  08/24/2016 11:13:31 AM            INJMAJ   \n",
       "843985         132323617  08/20/2013 09:37:38 PM            INJURY   \n",
       "7824339        181923721  07/11/2018 06:32:49 PM            INJMIN   \n",
       "\n",
       "         INITIAL_SEVERITY_LEVEL_CODE FINAL_CALL_TYPE  \\\n",
       "3573494                            4            DRUG   \n",
       "6924421                            2          JUMPDN   \n",
       "5049306                            3          INJMAJ   \n",
       "843985                             5          INJURY   \n",
       "7824339                            7          INJMIN   \n",
       "\n",
       "         FINAL_SEVERITY_LEVEL_CODE FIRST_ASSIGNMENT_DATETIME  \\\n",
       "3573494                          4    08/15/2015 01:40:59 PM   \n",
       "6924421                          2    12/07/2017 09:17:36 AM   \n",
       "5049306                          3    08/24/2016 11:13:44 AM   \n",
       "843985                           5    08/20/2013 09:38:04 PM   \n",
       "7824339                          7    07/11/2018 06:33:01 PM   \n",
       "\n",
       "        VALID_DISPATCH_RSPNS_TIME_INDC  DISPATCH_RESPONSE_SECONDS_QY  \\\n",
       "3573494                              Y                            12   \n",
       "6924421                              Y                            15   \n",
       "5049306                              Y                            13   \n",
       "843985                               Y                            26   \n",
       "7824339                              Y                            12   \n",
       "\n",
       "        FIRST_ACTIVATION_DATETIME  ...  ZIPCODE POLICEPRECINCT  \\\n",
       "3573494    08/15/2015 01:41:10 PM  ...  10453.0           46.0   \n",
       "6924421    12/07/2017 09:18:03 AM  ...  10451.0           40.0   \n",
       "5049306    08/24/2016 11:14:21 AM  ...  11102.0          114.0   \n",
       "843985     08/20/2013 09:38:24 PM  ...  11220.0           68.0   \n",
       "7824339    07/11/2018 06:33:10 PM  ...  10306.0          122.0   \n",
       "\n",
       "         CITYCOUNCILDISTRICT  COMMUNITYDISTRICT COMMUNITYSCHOOLDISTRICT  \\\n",
       "3573494                 14.0              205.0                    10.0   \n",
       "6924421                  8.0              201.0                     7.0   \n",
       "5049306                 22.0              401.0                    30.0   \n",
       "843985                  43.0              310.0                    20.0   \n",
       "7824339                 50.0              503.0                    31.0   \n",
       "\n",
       "        CONGRESSIONALDISTRICT REOPEN_INDICATOR SPECIAL_EVENT_INDICATOR  \\\n",
       "3573494                  15.0                N                       N   \n",
       "6924421                  15.0                N                       N   \n",
       "5049306                  12.0                N                       N   \n",
       "843985                   11.0                N                       N   \n",
       "7824339                  11.0                N                       N   \n",
       "\n",
       "         STANDBY_INDICATOR TRANSFER_INDICATOR  \n",
       "3573494                  N                  N  \n",
       "6924421                  N                  N  \n",
       "5049306                  N                  N  \n",
       "843985                   N                  N  \n",
       "7824339                  N                  N  \n",
       "\n",
       "[5 rows x 31 columns]"
      ]
     },
     "execution_count": 12,
     "metadata": {},
     "output_type": "execute_result"
    }
   ],
   "source": [
    "#Data is 2gb and over 8.5 millions rows. going to randomly select 50K rows of the data to play with.\n",
    "#data.info()\n",
    "\n",
    "df = data.sample(n=50000)\n",
    "df.head()"
   ]
  },
  {
   "cell_type": "code",
   "execution_count": 43,
   "metadata": {},
   "outputs": [],
   "source": [
    "#Null values for columns that will be used less then 2%. going to drop NA for zip.\n",
    "# df = df.dropna(subset=['ZIPCODE'])"
   ]
  },
  {
   "cell_type": "code",
   "execution_count": 46,
   "metadata": {},
   "outputs": [
    {
     "data": {
      "text/plain": [
       "CAD_INCIDENT_ID                       0\n",
       "INCIDENT_DATETIME                     0\n",
       "INITIAL_CALL_TYPE                     0\n",
       "INITIAL_SEVERITY_LEVEL_CODE           0\n",
       "FINAL_CALL_TYPE                       0\n",
       "FINAL_SEVERITY_LEVEL_CODE             0\n",
       "FIRST_ASSIGNMENT_DATETIME           346\n",
       "VALID_DISPATCH_RSPNS_TIME_INDC        0\n",
       "DISPATCH_RESPONSE_SECONDS_QY          0\n",
       "FIRST_ACTIVATION_DATETIME           446\n",
       "FIRST_ON_SCENE_DATETIME            1577\n",
       "VALID_INCIDENT_RSPNS_TIME_INDC        0\n",
       "INCIDENT_RESPONSE_SECONDS_QY       1582\n",
       "INCIDENT_TRAVEL_TM_SECONDS_QY      1578\n",
       "FIRST_TO_HOSP_DATETIME            14166\n",
       "FIRST_HOSP_ARRIVAL_DATETIME       14398\n",
       "INCIDENT_CLOSE_DATETIME              16\n",
       "HELD_INDICATOR                        0\n",
       "INCIDENT_DISPOSITION_CODE           422\n",
       "BOROUGH                               0\n",
       "INCIDENT_DISPATCH_AREA                0\n",
       "ZIPCODE                               0\n",
       "POLICEPRECINCT                        0\n",
       "CITYCOUNCILDISTRICT                  19\n",
       "COMMUNITYDISTRICT                     0\n",
       "COMMUNITYSCHOOLDISTRICT              26\n",
       "CONGRESSIONALDISTRICT                19\n",
       "REOPEN_INDICATOR                      0\n",
       "SPECIAL_EVENT_INDICATOR               0\n",
       "STANDBY_INDICATOR                     0\n",
       "TRANSFER_INDICATOR                    0\n",
       "dtype: int64"
      ]
     },
     "execution_count": 46,
     "metadata": {},
     "output_type": "execute_result"
    }
   ],
   "source": [
    "df.isnull().sum()"
   ]
  },
  {
   "cell_type": "code",
   "execution_count": 47,
   "metadata": {},
   "outputs": [],
   "source": [
    "#Plotting time series seeing if I need to seperate date from time in current data frame.\n",
    "import warnings\n",
    "warnings.filterwarnings('ignore')\n",
    "\n",
    "# Load required libraries\n",
    "import pandas as pd\n",
    "from pandas import Series\n",
    "import matplotlib.pyplot as plt"
   ]
  },
  {
   "cell_type": "code",
   "execution_count": 53,
   "metadata": {},
   "outputs": [
    {
     "data": {
      "text/html": [
       "<div>\n",
       "<style scoped>\n",
       "    .dataframe tbody tr th:only-of-type {\n",
       "        vertical-align: middle;\n",
       "    }\n",
       "\n",
       "    .dataframe tbody tr th {\n",
       "        vertical-align: top;\n",
       "    }\n",
       "\n",
       "    .dataframe thead th {\n",
       "        text-align: right;\n",
       "    }\n",
       "</style>\n",
       "<table border=\"1\" class=\"dataframe\">\n",
       "  <thead>\n",
       "    <tr style=\"text-align: right;\">\n",
       "      <th></th>\n",
       "      <th>CAD_INCIDENT_ID</th>\n",
       "      <th>INCIDENT_DATETIME</th>\n",
       "      <th>INITIAL_CALL_TYPE</th>\n",
       "      <th>INITIAL_SEVERITY_LEVEL_CODE</th>\n",
       "      <th>FINAL_CALL_TYPE</th>\n",
       "      <th>FINAL_SEVERITY_LEVEL_CODE</th>\n",
       "      <th>FIRST_ASSIGNMENT_DATETIME</th>\n",
       "      <th>VALID_DISPATCH_RSPNS_TIME_INDC</th>\n",
       "      <th>DISPATCH_RESPONSE_SECONDS_QY</th>\n",
       "      <th>FIRST_ACTIVATION_DATETIME</th>\n",
       "      <th>...</th>\n",
       "      <th>ZIPCODE</th>\n",
       "      <th>POLICEPRECINCT</th>\n",
       "      <th>CITYCOUNCILDISTRICT</th>\n",
       "      <th>COMMUNITYDISTRICT</th>\n",
       "      <th>COMMUNITYSCHOOLDISTRICT</th>\n",
       "      <th>CONGRESSIONALDISTRICT</th>\n",
       "      <th>REOPEN_INDICATOR</th>\n",
       "      <th>SPECIAL_EVENT_INDICATOR</th>\n",
       "      <th>STANDBY_INDICATOR</th>\n",
       "      <th>TRANSFER_INDICATOR</th>\n",
       "    </tr>\n",
       "  </thead>\n",
       "  <tbody>\n",
       "    <tr>\n",
       "      <td>2864516</td>\n",
       "      <td>150513312</td>\n",
       "      <td>02/20/2015 08:52:44 PM</td>\n",
       "      <td>INJURY</td>\n",
       "      <td>5</td>\n",
       "      <td>INJURY</td>\n",
       "      <td>5</td>\n",
       "      <td>02/20/2015 08:53:18 PM</td>\n",
       "      <td>Y</td>\n",
       "      <td>34</td>\n",
       "      <td>02/20/2015 08:53:31 PM</td>\n",
       "      <td>...</td>\n",
       "      <td>11418.0</td>\n",
       "      <td>102.0</td>\n",
       "      <td>29.0</td>\n",
       "      <td>409.0</td>\n",
       "      <td>27.0</td>\n",
       "      <td>5.0</td>\n",
       "      <td>N</td>\n",
       "      <td>N</td>\n",
       "      <td>N</td>\n",
       "      <td>N</td>\n",
       "    </tr>\n",
       "    <tr>\n",
       "      <td>3813485</td>\n",
       "      <td>152864357</td>\n",
       "      <td>10/13/2015 10:30:26 PM</td>\n",
       "      <td>INJURY</td>\n",
       "      <td>5</td>\n",
       "      <td>INJURY</td>\n",
       "      <td>5</td>\n",
       "      <td>10/13/2015 10:30:43 PM</td>\n",
       "      <td>Y</td>\n",
       "      <td>17</td>\n",
       "      <td>10/13/2015 10:30:51 PM</td>\n",
       "      <td>...</td>\n",
       "      <td>11368.0</td>\n",
       "      <td>115.0</td>\n",
       "      <td>21.0</td>\n",
       "      <td>403.0</td>\n",
       "      <td>24.0</td>\n",
       "      <td>14.0</td>\n",
       "      <td>N</td>\n",
       "      <td>N</td>\n",
       "      <td>N</td>\n",
       "      <td>N</td>\n",
       "    </tr>\n",
       "    <tr>\n",
       "      <td>8185674</td>\n",
       "      <td>182773527</td>\n",
       "      <td>10/04/2018 05:31:25 PM</td>\n",
       "      <td>DRUG</td>\n",
       "      <td>4</td>\n",
       "      <td>DRUG</td>\n",
       "      <td>4</td>\n",
       "      <td>10/04/2018 06:23:20 PM</td>\n",
       "      <td>Y</td>\n",
       "      <td>3115</td>\n",
       "      <td>10/04/2018 06:24:00 PM</td>\n",
       "      <td>...</td>\n",
       "      <td>10027.0</td>\n",
       "      <td>28.0</td>\n",
       "      <td>9.0</td>\n",
       "      <td>110.0</td>\n",
       "      <td>5.0</td>\n",
       "      <td>13.0</td>\n",
       "      <td>N</td>\n",
       "      <td>N</td>\n",
       "      <td>N</td>\n",
       "      <td>N</td>\n",
       "    </tr>\n",
       "    <tr>\n",
       "      <td>2846282</td>\n",
       "      <td>150463166</td>\n",
       "      <td>02/15/2015 08:19:53 PM</td>\n",
       "      <td>UNKNOW</td>\n",
       "      <td>4</td>\n",
       "      <td>UNKNOW</td>\n",
       "      <td>4</td>\n",
       "      <td>02/15/2015 08:20:10 PM</td>\n",
       "      <td>Y</td>\n",
       "      <td>17</td>\n",
       "      <td>02/15/2015 08:20:17 PM</td>\n",
       "      <td>...</td>\n",
       "      <td>11355.0</td>\n",
       "      <td>109.0</td>\n",
       "      <td>20.0</td>\n",
       "      <td>407.0</td>\n",
       "      <td>25.0</td>\n",
       "      <td>6.0</td>\n",
       "      <td>N</td>\n",
       "      <td>N</td>\n",
       "      <td>N</td>\n",
       "      <td>N</td>\n",
       "    </tr>\n",
       "    <tr>\n",
       "      <td>3937000</td>\n",
       "      <td>153190209</td>\n",
       "      <td>11/15/2015 01:22:10 AM</td>\n",
       "      <td>INJURY</td>\n",
       "      <td>5</td>\n",
       "      <td>INJURY</td>\n",
       "      <td>5</td>\n",
       "      <td>11/15/2015 01:22:32 AM</td>\n",
       "      <td>Y</td>\n",
       "      <td>22</td>\n",
       "      <td>11/15/2015 01:22:38 AM</td>\n",
       "      <td>...</td>\n",
       "      <td>10036.0</td>\n",
       "      <td>18.0</td>\n",
       "      <td>4.0</td>\n",
       "      <td>105.0</td>\n",
       "      <td>2.0</td>\n",
       "      <td>12.0</td>\n",
       "      <td>N</td>\n",
       "      <td>N</td>\n",
       "      <td>N</td>\n",
       "      <td>N</td>\n",
       "    </tr>\n",
       "  </tbody>\n",
       "</table>\n",
       "<p>5 rows × 31 columns</p>\n",
       "</div>"
      ],
      "text/plain": [
       "         CAD_INCIDENT_ID       INCIDENT_DATETIME INITIAL_CALL_TYPE  \\\n",
       "2864516        150513312  02/20/2015 08:52:44 PM            INJURY   \n",
       "3813485        152864357  10/13/2015 10:30:26 PM            INJURY   \n",
       "8185674        182773527  10/04/2018 05:31:25 PM              DRUG   \n",
       "2846282        150463166  02/15/2015 08:19:53 PM            UNKNOW   \n",
       "3937000        153190209  11/15/2015 01:22:10 AM            INJURY   \n",
       "\n",
       "         INITIAL_SEVERITY_LEVEL_CODE FINAL_CALL_TYPE  \\\n",
       "2864516                            5          INJURY   \n",
       "3813485                            5          INJURY   \n",
       "8185674                            4            DRUG   \n",
       "2846282                            4          UNKNOW   \n",
       "3937000                            5          INJURY   \n",
       "\n",
       "         FINAL_SEVERITY_LEVEL_CODE FIRST_ASSIGNMENT_DATETIME  \\\n",
       "2864516                          5    02/20/2015 08:53:18 PM   \n",
       "3813485                          5    10/13/2015 10:30:43 PM   \n",
       "8185674                          4    10/04/2018 06:23:20 PM   \n",
       "2846282                          4    02/15/2015 08:20:10 PM   \n",
       "3937000                          5    11/15/2015 01:22:32 AM   \n",
       "\n",
       "        VALID_DISPATCH_RSPNS_TIME_INDC  DISPATCH_RESPONSE_SECONDS_QY  \\\n",
       "2864516                              Y                            34   \n",
       "3813485                              Y                            17   \n",
       "8185674                              Y                          3115   \n",
       "2846282                              Y                            17   \n",
       "3937000                              Y                            22   \n",
       "\n",
       "        FIRST_ACTIVATION_DATETIME  ...  ZIPCODE POLICEPRECINCT  \\\n",
       "2864516    02/20/2015 08:53:31 PM  ...  11418.0          102.0   \n",
       "3813485    10/13/2015 10:30:51 PM  ...  11368.0          115.0   \n",
       "8185674    10/04/2018 06:24:00 PM  ...  10027.0           28.0   \n",
       "2846282    02/15/2015 08:20:17 PM  ...  11355.0          109.0   \n",
       "3937000    11/15/2015 01:22:38 AM  ...  10036.0           18.0   \n",
       "\n",
       "         CITYCOUNCILDISTRICT  COMMUNITYDISTRICT COMMUNITYSCHOOLDISTRICT  \\\n",
       "2864516                 29.0              409.0                    27.0   \n",
       "3813485                 21.0              403.0                    24.0   \n",
       "8185674                  9.0              110.0                     5.0   \n",
       "2846282                 20.0              407.0                    25.0   \n",
       "3937000                  4.0              105.0                     2.0   \n",
       "\n",
       "        CONGRESSIONALDISTRICT REOPEN_INDICATOR SPECIAL_EVENT_INDICATOR  \\\n",
       "2864516                   5.0                N                       N   \n",
       "3813485                  14.0                N                       N   \n",
       "8185674                  13.0                N                       N   \n",
       "2846282                   6.0                N                       N   \n",
       "3937000                  12.0                N                       N   \n",
       "\n",
       "         STANDBY_INDICATOR TRANSFER_INDICATOR  \n",
       "2864516                  N                  N  \n",
       "3813485                  N                  N  \n",
       "8185674                  N                  N  \n",
       "2846282                  N                  N  \n",
       "3937000                  N                  N  \n",
       "\n",
       "[5 rows x 31 columns]"
      ]
     },
     "execution_count": 53,
     "metadata": {},
     "output_type": "execute_result"
    }
   ],
   "source": [
    "df.head()\n"
   ]
  },
  {
   "cell_type": "code",
   "execution_count": 145,
   "metadata": {},
   "outputs": [],
   "source": [
    "def convert24(str1): \n",
    "      \n",
    "    # Checking if last two elements of time \n",
    "    # is AM and first two elements are 12 \n",
    "    if str1[-2:] == \"AM\" and str1[:2] == \"12\": \n",
    "        return \"00\" + str1[2:-2] \n",
    "          \n",
    "    # remove the AM     \n",
    "    elif str1[-2:] == \"AM\": \n",
    "        return str1[:-2] \n",
    "      \n",
    "    # Checking if last two elements of time \n",
    "    # is PM and first two elements are 12    \n",
    "    elif str1[-2:] == \"PM\" and str1[:2] == \"12\": \n",
    "        return str1[:-2] \n",
    "          \n",
    "    else: \n",
    "          \n",
    "        # add 12 to hours and remove PM \n",
    "        return str(int(str1[:2]) + 12) + str1[2:8] "
   ]
  },
  {
   "cell_type": "code",
   "execution_count": 13,
   "metadata": {},
   "outputs": [],
   "source": [
    "#creating new column with incident date, and then a second with incidentt ime.\n",
    "df['INCIDENT_DATE'] = df.apply(lambda x:(x['INCIDENT_DATETIME'].split(\" \"))[0],axis=1)\n",
    "df['INCIDENT_TIME'] = df.apply(lambda x:(x[\"INCIDENT_DATETIME\"][10:]), axis=1)"
   ]
  },
  {
   "cell_type": "code",
   "execution_count": 14,
   "metadata": {},
   "outputs": [
    {
     "ename": "SyntaxError",
     "evalue": "invalid syntax (<ipython-input-14-839a2d0d5cc2>, line 3)",
     "output_type": "error",
     "traceback": [
      "\u001b[0;36m  File \u001b[0;32m\"<ipython-input-14-839a2d0d5cc2>\"\u001b[0;36m, line \u001b[0;32m3\u001b[0m\n\u001b[0;31m    df[\"INCIDENT_TIME\"]convert24(df['INCIDENT_TIME'].iloc[1])\u001b[0m\n\u001b[0m                               ^\u001b[0m\n\u001b[0;31mSyntaxError\u001b[0m\u001b[0;31m:\u001b[0m invalid syntax\n"
     ]
    }
   ],
   "source": [
    "#converting to 24 hour clock and remving am pm\n",
    "for row in range(len(df+1)):\n",
    "    df[\"INCIDENT_TIME\"]convert24(df['INCIDENT_TIME'].iloc[1])"
   ]
  },
  {
   "cell_type": "code",
   "execution_count": 29,
   "metadata": {},
   "outputs": [],
   "source": [
    "#Converting Incident date column to datetime for time series modelling.\n",
    "df['INCIDENT_DATE']= pd.to_datetime(df['INCIDENT_DATE']) "
   ]
  },
  {
   "cell_type": "code",
   "execution_count": 347,
   "metadata": {},
   "outputs": [],
   "source": [
    "#Converting Incident time column to datetime for time series modelling.\n",
    "#Converting Incident date column to datetime for time series modelling.\n",
    "# df['INCIDENT_TIME']= pd.to_datetime(df['INCIDENT_TIME']) "
   ]
  },
  {
   "cell_type": "code",
   "execution_count": 154,
   "metadata": {},
   "outputs": [
    {
     "data": {
      "text/html": [
       "<div>\n",
       "<style scoped>\n",
       "    .dataframe tbody tr th:only-of-type {\n",
       "        vertical-align: middle;\n",
       "    }\n",
       "\n",
       "    .dataframe tbody tr th {\n",
       "        vertical-align: top;\n",
       "    }\n",
       "\n",
       "    .dataframe thead th {\n",
       "        text-align: right;\n",
       "    }\n",
       "</style>\n",
       "<table border=\"1\" class=\"dataframe\">\n",
       "  <thead>\n",
       "    <tr style=\"text-align: right;\">\n",
       "      <th></th>\n",
       "      <th>CAD_INCIDENT_ID</th>\n",
       "      <th>INCIDENT_DATETIME</th>\n",
       "      <th>INITIAL_CALL_TYPE</th>\n",
       "      <th>INITIAL_SEVERITY_LEVEL_CODE</th>\n",
       "      <th>FINAL_CALL_TYPE</th>\n",
       "      <th>FINAL_SEVERITY_LEVEL_CODE</th>\n",
       "      <th>FIRST_ASSIGNMENT_DATETIME</th>\n",
       "      <th>VALID_DISPATCH_RSPNS_TIME_INDC</th>\n",
       "      <th>DISPATCH_RESPONSE_SECONDS_QY</th>\n",
       "      <th>FIRST_ACTIVATION_DATETIME</th>\n",
       "      <th>...</th>\n",
       "      <th>CITYCOUNCILDISTRICT</th>\n",
       "      <th>COMMUNITYDISTRICT</th>\n",
       "      <th>COMMUNITYSCHOOLDISTRICT</th>\n",
       "      <th>CONGRESSIONALDISTRICT</th>\n",
       "      <th>REOPEN_INDICATOR</th>\n",
       "      <th>SPECIAL_EVENT_INDICATOR</th>\n",
       "      <th>STANDBY_INDICATOR</th>\n",
       "      <th>TRANSFER_INDICATOR</th>\n",
       "      <th>INCIDENT_DATE</th>\n",
       "      <th>INCIDENT_TIME</th>\n",
       "    </tr>\n",
       "  </thead>\n",
       "  <tbody>\n",
       "    <tr>\n",
       "      <td>2864516</td>\n",
       "      <td>150513312</td>\n",
       "      <td>02/20/2015 08:52:44 PM</td>\n",
       "      <td>INJURY</td>\n",
       "      <td>5</td>\n",
       "      <td>INJURY</td>\n",
       "      <td>5</td>\n",
       "      <td>02/20/2015 08:53:18 PM</td>\n",
       "      <td>Y</td>\n",
       "      <td>34</td>\n",
       "      <td>02/20/2015 08:53:31 PM</td>\n",
       "      <td>...</td>\n",
       "      <td>29.0</td>\n",
       "      <td>409.0</td>\n",
       "      <td>27.0</td>\n",
       "      <td>5.0</td>\n",
       "      <td>N</td>\n",
       "      <td>N</td>\n",
       "      <td>N</td>\n",
       "      <td>N</td>\n",
       "      <td>2015-02-20</td>\n",
       "      <td>20:52:44</td>\n",
       "    </tr>\n",
       "    <tr>\n",
       "      <td>3813485</td>\n",
       "      <td>152864357</td>\n",
       "      <td>10/13/2015 10:30:26 PM</td>\n",
       "      <td>INJURY</td>\n",
       "      <td>5</td>\n",
       "      <td>INJURY</td>\n",
       "      <td>5</td>\n",
       "      <td>10/13/2015 10:30:43 PM</td>\n",
       "      <td>Y</td>\n",
       "      <td>17</td>\n",
       "      <td>10/13/2015 10:30:51 PM</td>\n",
       "      <td>...</td>\n",
       "      <td>21.0</td>\n",
       "      <td>403.0</td>\n",
       "      <td>24.0</td>\n",
       "      <td>14.0</td>\n",
       "      <td>N</td>\n",
       "      <td>N</td>\n",
       "      <td>N</td>\n",
       "      <td>N</td>\n",
       "      <td>2015-10-13</td>\n",
       "      <td>22:30:26</td>\n",
       "    </tr>\n",
       "    <tr>\n",
       "      <td>8185674</td>\n",
       "      <td>182773527</td>\n",
       "      <td>10/04/2018 05:31:25 PM</td>\n",
       "      <td>DRUG</td>\n",
       "      <td>4</td>\n",
       "      <td>DRUG</td>\n",
       "      <td>4</td>\n",
       "      <td>10/04/2018 06:23:20 PM</td>\n",
       "      <td>Y</td>\n",
       "      <td>3115</td>\n",
       "      <td>10/04/2018 06:24:00 PM</td>\n",
       "      <td>...</td>\n",
       "      <td>9.0</td>\n",
       "      <td>110.0</td>\n",
       "      <td>5.0</td>\n",
       "      <td>13.0</td>\n",
       "      <td>N</td>\n",
       "      <td>N</td>\n",
       "      <td>N</td>\n",
       "      <td>N</td>\n",
       "      <td>2018-10-04</td>\n",
       "      <td>17:31:25</td>\n",
       "    </tr>\n",
       "    <tr>\n",
       "      <td>2846282</td>\n",
       "      <td>150463166</td>\n",
       "      <td>02/15/2015 08:19:53 PM</td>\n",
       "      <td>UNKNOW</td>\n",
       "      <td>4</td>\n",
       "      <td>UNKNOW</td>\n",
       "      <td>4</td>\n",
       "      <td>02/15/2015 08:20:10 PM</td>\n",
       "      <td>Y</td>\n",
       "      <td>17</td>\n",
       "      <td>02/15/2015 08:20:17 PM</td>\n",
       "      <td>...</td>\n",
       "      <td>20.0</td>\n",
       "      <td>407.0</td>\n",
       "      <td>25.0</td>\n",
       "      <td>6.0</td>\n",
       "      <td>N</td>\n",
       "      <td>N</td>\n",
       "      <td>N</td>\n",
       "      <td>N</td>\n",
       "      <td>2015-02-15</td>\n",
       "      <td>20:19:53</td>\n",
       "    </tr>\n",
       "    <tr>\n",
       "      <td>3937000</td>\n",
       "      <td>153190209</td>\n",
       "      <td>11/15/2015 01:22:10 AM</td>\n",
       "      <td>INJURY</td>\n",
       "      <td>5</td>\n",
       "      <td>INJURY</td>\n",
       "      <td>5</td>\n",
       "      <td>11/15/2015 01:22:32 AM</td>\n",
       "      <td>Y</td>\n",
       "      <td>22</td>\n",
       "      <td>11/15/2015 01:22:38 AM</td>\n",
       "      <td>...</td>\n",
       "      <td>4.0</td>\n",
       "      <td>105.0</td>\n",
       "      <td>2.0</td>\n",
       "      <td>12.0</td>\n",
       "      <td>N</td>\n",
       "      <td>N</td>\n",
       "      <td>N</td>\n",
       "      <td>N</td>\n",
       "      <td>2015-11-15</td>\n",
       "      <td>01:22:10</td>\n",
       "    </tr>\n",
       "  </tbody>\n",
       "</table>\n",
       "<p>5 rows × 33 columns</p>\n",
       "</div>"
      ],
      "text/plain": [
       "         CAD_INCIDENT_ID       INCIDENT_DATETIME INITIAL_CALL_TYPE  \\\n",
       "2864516        150513312  02/20/2015 08:52:44 PM            INJURY   \n",
       "3813485        152864357  10/13/2015 10:30:26 PM            INJURY   \n",
       "8185674        182773527  10/04/2018 05:31:25 PM              DRUG   \n",
       "2846282        150463166  02/15/2015 08:19:53 PM            UNKNOW   \n",
       "3937000        153190209  11/15/2015 01:22:10 AM            INJURY   \n",
       "\n",
       "         INITIAL_SEVERITY_LEVEL_CODE FINAL_CALL_TYPE  \\\n",
       "2864516                            5          INJURY   \n",
       "3813485                            5          INJURY   \n",
       "8185674                            4            DRUG   \n",
       "2846282                            4          UNKNOW   \n",
       "3937000                            5          INJURY   \n",
       "\n",
       "         FINAL_SEVERITY_LEVEL_CODE FIRST_ASSIGNMENT_DATETIME  \\\n",
       "2864516                          5    02/20/2015 08:53:18 PM   \n",
       "3813485                          5    10/13/2015 10:30:43 PM   \n",
       "8185674                          4    10/04/2018 06:23:20 PM   \n",
       "2846282                          4    02/15/2015 08:20:10 PM   \n",
       "3937000                          5    11/15/2015 01:22:32 AM   \n",
       "\n",
       "        VALID_DISPATCH_RSPNS_TIME_INDC  DISPATCH_RESPONSE_SECONDS_QY  \\\n",
       "2864516                              Y                            34   \n",
       "3813485                              Y                            17   \n",
       "8185674                              Y                          3115   \n",
       "2846282                              Y                            17   \n",
       "3937000                              Y                            22   \n",
       "\n",
       "        FIRST_ACTIVATION_DATETIME  ... CITYCOUNCILDISTRICT COMMUNITYDISTRICT  \\\n",
       "2864516    02/20/2015 08:53:31 PM  ...                29.0             409.0   \n",
       "3813485    10/13/2015 10:30:51 PM  ...                21.0             403.0   \n",
       "8185674    10/04/2018 06:24:00 PM  ...                 9.0             110.0   \n",
       "2846282    02/15/2015 08:20:17 PM  ...                20.0             407.0   \n",
       "3937000    11/15/2015 01:22:38 AM  ...                 4.0             105.0   \n",
       "\n",
       "         COMMUNITYSCHOOLDISTRICT  CONGRESSIONALDISTRICT REOPEN_INDICATOR  \\\n",
       "2864516                     27.0                    5.0                N   \n",
       "3813485                     24.0                   14.0                N   \n",
       "8185674                      5.0                   13.0                N   \n",
       "2846282                     25.0                    6.0                N   \n",
       "3937000                      2.0                   12.0                N   \n",
       "\n",
       "        SPECIAL_EVENT_INDICATOR STANDBY_INDICATOR TRANSFER_INDICATOR  \\\n",
       "2864516                       N                 N                  N   \n",
       "3813485                       N                 N                  N   \n",
       "8185674                       N                 N                  N   \n",
       "2846282                       N                 N                  N   \n",
       "3937000                       N                 N                  N   \n",
       "\n",
       "         INCIDENT_DATE INCIDENT_TIME  \n",
       "2864516     2015-02-20      20:52:44  \n",
       "3813485     2015-10-13      22:30:26  \n",
       "8185674     2018-10-04      17:31:25  \n",
       "2846282     2015-02-15      20:19:53  \n",
       "3937000     2015-11-15     01:22:10   \n",
       "\n",
       "[5 rows x 33 columns]"
      ]
     },
     "execution_count": 154,
     "metadata": {},
     "output_type": "execute_result"
    }
   ],
   "source": [
    "df.head()"
   ]
  },
  {
   "cell_type": "code",
   "execution_count": 155,
   "metadata": {
    "scrolled": true
   },
   "outputs": [
    {
     "name": "stdout",
     "output_type": "stream",
     "text": [
      "<class 'pandas.core.frame.DataFrame'>\n",
      "Int64Index: 49041 entries, 2864516 to 2646649\n",
      "Data columns (total 33 columns):\n",
      "CAD_INCIDENT_ID                   49041 non-null int64\n",
      "INCIDENT_DATETIME                 49041 non-null object\n",
      "INITIAL_CALL_TYPE                 49041 non-null object\n",
      "INITIAL_SEVERITY_LEVEL_CODE       49041 non-null int64\n",
      "FINAL_CALL_TYPE                   49041 non-null object\n",
      "FINAL_SEVERITY_LEVEL_CODE         49041 non-null int64\n",
      "FIRST_ASSIGNMENT_DATETIME         48695 non-null object\n",
      "VALID_DISPATCH_RSPNS_TIME_INDC    49041 non-null object\n",
      "DISPATCH_RESPONSE_SECONDS_QY      49041 non-null int64\n",
      "FIRST_ACTIVATION_DATETIME         48595 non-null object\n",
      "FIRST_ON_SCENE_DATETIME           47464 non-null object\n",
      "VALID_INCIDENT_RSPNS_TIME_INDC    49041 non-null object\n",
      "INCIDENT_RESPONSE_SECONDS_QY      47459 non-null float64\n",
      "INCIDENT_TRAVEL_TM_SECONDS_QY     47463 non-null float64\n",
      "FIRST_TO_HOSP_DATETIME            34875 non-null object\n",
      "FIRST_HOSP_ARRIVAL_DATETIME       34643 non-null object\n",
      "INCIDENT_CLOSE_DATETIME           49025 non-null object\n",
      "HELD_INDICATOR                    49041 non-null object\n",
      "INCIDENT_DISPOSITION_CODE         48619 non-null float64\n",
      "BOROUGH                           49041 non-null object\n",
      "INCIDENT_DISPATCH_AREA            49041 non-null object\n",
      "ZIPCODE                           49041 non-null float64\n",
      "POLICEPRECINCT                    49041 non-null float64\n",
      "CITYCOUNCILDISTRICT               49022 non-null float64\n",
      "COMMUNITYDISTRICT                 49041 non-null float64\n",
      "COMMUNITYSCHOOLDISTRICT           49015 non-null float64\n",
      "CONGRESSIONALDISTRICT             49022 non-null float64\n",
      "REOPEN_INDICATOR                  49041 non-null object\n",
      "SPECIAL_EVENT_INDICATOR           49041 non-null object\n",
      "STANDBY_INDICATOR                 49041 non-null object\n",
      "TRANSFER_INDICATOR                49041 non-null object\n",
      "INCIDENT_DATE                     49041 non-null datetime64[ns]\n",
      "INCIDENT_TIME                     49041 non-null object\n",
      "dtypes: datetime64[ns](1), float64(9), int64(4), object(19)\n",
      "memory usage: 14.0+ MB\n"
     ]
    }
   ],
   "source": [
    "df.info()"
   ]
  },
  {
   "cell_type": "markdown",
   "metadata": {},
   "source": [
    "# RABBIT HOLE OF API DIDNT END UP USING, DID SELENIUM INSTEAD"
   ]
  },
  {
   "cell_type": "code",
   "execution_count": 158,
   "metadata": {},
   "outputs": [],
   "source": [
    "# pip install darksky_weather"
   ]
  },
  {
   "cell_type": "code",
   "execution_count": 160,
   "metadata": {},
   "outputs": [],
   "source": [
    "# from darksky.api import DarkSky, DarkSkyAsync\n",
    "# from darksky.types import languages, units, weather\n",
    "\n"
   ]
  },
  {
   "cell_type": "code",
   "execution_count": 164,
   "metadata": {},
   "outputs": [],
   "source": [
    "# # Synchronous way\n",
    "# darksky = DarkSky(API_KEY)\n",
    "# latitude = 42.3601\n",
    "# longitude = -71.0589\n",
    "# forecast = darksky.get_forecast(\n",
    "#     latitude, longitude,\n",
    "#     extend=False, # default `False`\n",
    "#     lang=languages.ENGLISH, # default `ENGLISH`\n",
    "#     units=units.AUTO, # default `auto`\n",
    "#     exclude=[weather.MINUTELY, weather.ALERTS], # default `[]`,\n",
    "#     timezone='UTC' )\n",
    "#     # default None - will be set by DarkSky API automatically"
   ]
  },
  {
   "cell_type": "code",
   "execution_count": 165,
   "metadata": {},
   "outputs": [
    {
     "data": {
      "text/plain": [
       "[]"
      ]
     },
     "execution_count": 165,
     "metadata": {},
     "output_type": "execute_result"
    }
   ],
   "source": [
    "# # Final wrapper identical for both ways\n",
    "# forecast.latitude # 42.3601\n",
    "# forecast.longitude # -71.0589\n",
    "# forecast.timezone # timezone for coordinates. For exmaple: `America/New_York`\n",
    "\n",
    "# forecast.currently # CurrentlyForecast. Can be found at darksky/forecast.py\n",
    "# forecast.minutely # MinutelyForecast. Can be found at darksky/forecast.py\n",
    "# forecast.hourly # HourlyForecast. Can be found at darksky/forecast.py\n",
    "# forecast.daily # DailyForecast. Can be found at darksky/forecast.py\n",
    "# forecast.alerts # [Alert]. Can be found at darksky/forecast.py"
   ]
  },
  {
   "cell_type": "code",
   "execution_count": 166,
   "metadata": {},
   "outputs": [],
   "source": [
    "#scraping weather data NYC from weather underground add to my SQL database, use beautiful soup.\n",
    "#try to get \n",
    "\n",
    "# And air quality might come from different website."
   ]
  },
  {
   "cell_type": "markdown",
   "metadata": {},
   "source": [
    "# SELEIUM SCRAPPING TO CREATE CSV"
   ]
  },
  {
   "cell_type": "code",
   "execution_count": 319,
   "metadata": {},
   "outputs": [],
   "source": [
    "# from selenium import webdriver\n",
    "# import pandas as pd\n",
    "\n",
    "# from selenium.webdriver.common.keys import Keys\n",
    "\n",
    "# driver = webdriver.Chrome(executable_path='/Users/kylemcnicoll/Downloads/chromedriver 2')"
   ]
  },
  {
   "cell_type": "code",
   "execution_count": 208,
   "metadata": {},
   "outputs": [],
   "source": [
    "driver.get(\"https://www.wunderground.com/history/daily/us/ny/new-york-city/KLGA/date/2020-1-7\")"
   ]
  },
  {
   "cell_type": "code",
   "execution_count": 276,
   "metadata": {},
   "outputs": [],
   "source": [
    "# #Making a list of dates to run throught web scraping formula\n",
    "# from datetime import date, timedelta\n",
    "\n",
    "# def date_making_function():\n",
    "#     sdate = date(2013, 1, 1)   # start date\n",
    "#     edate = date(2020, 1, 1)   # end date\n",
    "\n",
    "#     delta = edate - sdate       # as timedelta\n",
    "\n",
    "#     for i in range(delta.days + 1):\n",
    "#         day = sdate + timedelta(days=i)\n",
    "#         dates.append(str(day))"
   ]
  },
  {
   "cell_type": "code",
   "execution_count": 288,
   "metadata": {
    "scrolled": false
   },
   "outputs": [
    {
     "data": {
      "text/plain": [
       "2557"
      ]
     },
     "execution_count": 288,
     "metadata": {},
     "output_type": "execute_result"
    }
   ],
   "source": [
    "# len(dates)"
   ]
  },
  {
   "cell_type": "code",
   "execution_count": 278,
   "metadata": {},
   "outputs": [],
   "source": [
    "# #list of dates for last 7 years, to run a seleium scrape for info from date\n",
    "# dates = []\n",
    "# date_making_function()\n"
   ]
  },
  {
   "cell_type": "code",
   "execution_count": 323,
   "metadata": {},
   "outputs": [],
   "source": [
    "\n",
    "# insert_info = []\n",
    "\n",
    "    \n",
    "# # for date in dates:\n",
    "# for date in dates2:\n",
    "#     try:\n",
    "# #for loop this will go through each date individually and scape info wanted.\n",
    "#         url = \"https://www.wunderground.com/history/daily/us/ny/new-york-city/KLGA/date/\" + str(date)\n",
    "\n",
    "#         driver.get(url)\n",
    "\n",
    "\n",
    "#         #go to page I want and add it to insert_info list\n",
    "\n",
    "#         temp_max = driver.find_element_by_xpath(\"\"\"/html/body/app-root/app-history/one-column-layout/wu-header/sidenav/mat-sidenav-container/mat-sidenav-content/div/section/div[2]/div[1]/div[3]/div[1]/div/lib-city-history-summary/div/div[2]/table/tbody[1]/tr[1]/td[1]\"\"\").text\n",
    "#         temp_min= driver.find_element_by_xpath(\"\"\"/html/body/app-root/app-history/one-column-layout/wu-header/sidenav/mat-sidenav-container/mat-sidenav-content/div/section/div[2]/div[1]/div[3]/div[1]/div/lib-city-history-summary/div/div[2]/table/tbody[1]/tr[2]/td[1]\"\"\").text\n",
    "\n",
    "\n",
    "\n",
    "#         precipitation = driver.find_element_by_xpath(\"\"\"/html/body/app-root/app-history/one-column-layout/wu-header/sidenav/mat-sidenav-container/mat-sidenav-content/div/section/div[2]/div[1]/div[3]/div[1]/div/lib-city-history-summary/div/div[2]/table/tbody[2]/tr/td[1]\"\"\").text\n",
    "\n",
    "#         visibility = driver.find_element_by_xpath(\"\"\"/html/body/app-root/app-history/one-column-layout/wu-header/sidenav/mat-sidenav-container/mat-sidenav-content/div/section/div[2]/div[1]/div[3]/div[1]/div/lib-city-history-summary/div/div[2]/table/tbody[4]/tr[2]/td[1]\"\"\").text\n",
    "\n",
    "#         max_wind_speed= driver.find_element_by_xpath(\"\"\"/html/body/app-root/app-history/one-column-layout/wu-header/sidenav/mat-sidenav-container/mat-sidenav-content/div/section/div[2]/div[1]/div[3]/div[1]/div/lib-city-history-summary/div/div[2]/table/tbody[4]/tr[1]/td[1]\"\"\").text\n",
    "\n",
    "#         new = ((str(date), temp_max, temp_min, precipitation, visibility, max_wind_speed))\n",
    "#         insert_info.append(new)\n",
    "#         time.sleep(0.5)\n",
    "#     except:\n",
    "#         continue\n",
    "    \n",
    "    \n"
   ]
  },
  {
   "cell_type": "code",
   "execution_count": 293,
   "metadata": {},
   "outputs": [],
   "source": [
    "# df1 = pd.DataFrame(insert_info , columns=[str(date),'temp_max','temp_min', 'precipitation', \"visibility\", 'max_wind_speed'])\n",
    "# df1.to_csv('Weather_Historical.csv')"
   ]
  },
  {
   "cell_type": "code",
   "execution_count": 310,
   "metadata": {},
   "outputs": [],
   "source": [
    "# df2 = pd.DataFrame(insert_info , columns=[str(date),'temp_max','temp_min', 'precipitation', \"visibility\", 'max_wind_speed'])\n",
    "# df2.to_csv('Weather_Historical2.csv')"
   ]
  },
  {
   "cell_type": "code",
   "execution_count": 342,
   "metadata": {},
   "outputs": [],
   "source": [
    "# df3 = pd.DataFrame(insert_info , columns=[str(date),'temp_max','temp_min', 'precipitation', \"visibility\", 'max_wind_speed'])\n",
    "# df3.to_csv('Weather_Historical4.csv')"
   ]
  },
  {
   "cell_type": "code",
   "execution_count": 247,
   "metadata": {},
   "outputs": [
    {
     "name": "stdout",
     "output_type": "stream",
     "text": [
      "15\n"
     ]
    }
   ],
   "source": [
    "# # Testing line individually\n",
    "# max_wind_speeds= driver.find_element_by_xpath(\"\"\"/html/body/app-root/app-history/one-column-layout/wu-header/sidenav/mat-sidenav-container/mat-sidenav-content/div/section/div[2]/div[1]/div[3]/div[1]/div/lib-city-history-summary/div/div[2]/table/tbody[4]/tr[1]/td[1]\"\"\").text\n",
    "# print(max_wind_speeds)\n"
   ]
  },
  {
   "cell_type": "markdown",
   "metadata": {},
   "source": [
    "# COMBINDING OLD DF WITH NEW SCRAPED"
   ]
  },
  {
   "cell_type": "code",
   "execution_count": 10,
   "metadata": {},
   "outputs": [
    {
     "ename": "NameError",
     "evalue": "name 'df1' is not defined",
     "output_type": "error",
     "traceback": [
      "\u001b[0;31m---------------------------------------------------------------------------\u001b[0m",
      "\u001b[0;31mNameError\u001b[0m                                 Traceback (most recent call last)",
      "\u001b[0;32m<ipython-input-10-6a861a8b3f1a>\u001b[0m in \u001b[0;36m<module>\u001b[0;34m\u001b[0m\n\u001b[0;32m----> 1\u001b[0;31m \u001b[0mdf1\u001b[0m\u001b[0;34m\u001b[0m\u001b[0;34m\u001b[0m\u001b[0m\n\u001b[0m",
      "\u001b[0;31mNameError\u001b[0m: name 'df1' is not defined"
     ]
    }
   ],
   "source": [
    "# df1"
   ]
  },
  {
   "cell_type": "code",
   "execution_count": 303,
   "metadata": {},
   "outputs": [],
   "source": [
    "# #making second list for dates after 2018 that were interupted.\n",
    "# dates1= dates[1849:]"
   ]
  },
  {
   "cell_type": "code",
   "execution_count": 306,
   "metadata": {},
   "outputs": [],
   "source": [
    "#going to rerun with dates1\n",
    "# dates1"
   ]
  },
  {
   "cell_type": "code",
   "execution_count": 315,
   "metadata": {},
   "outputs": [
    {
     "data": {
      "text/plain": [
       "2504"
      ]
     },
     "execution_count": 315,
     "metadata": {},
     "output_type": "execute_result"
    }
   ],
   "source": [
    "# len(df1)+len(df2)"
   ]
  },
  {
   "cell_type": "code",
   "execution_count": 322,
   "metadata": {},
   "outputs": [],
   "source": [
    "# dates2=dates1[-20:]"
   ]
  },
  {
   "cell_type": "code",
   "execution_count": 339,
   "metadata": {},
   "outputs": [],
   "source": [
    "# df4  = pd.concat([df1,df2,df3])"
   ]
  },
  {
   "cell_type": "code",
   "execution_count": 15,
   "metadata": {},
   "outputs": [],
   "source": [
    "#imported weather csv of all dates\n",
    "weather= pd.read_csv(\"Weather_Historical_ALL.csv\") "
   ]
  },
  {
   "cell_type": "code",
   "execution_count": 16,
   "metadata": {},
   "outputs": [],
   "source": [
    "#converting dates in weather to datetime object\n",
    "weather['2020-01-01']= pd.to_datetime(weather['2020-01-01']) "
   ]
  },
  {
   "cell_type": "code",
   "execution_count": 17,
   "metadata": {},
   "outputs": [],
   "source": [
    "weather = weather.rename(columns={'2020-01-01': 'INCIDENT_DATE'})"
   ]
  },
  {
   "cell_type": "code",
   "execution_count": 28,
   "metadata": {},
   "outputs": [
    {
     "name": "stdout",
     "output_type": "stream",
     "text": [
      "<class 'pandas.core.frame.DataFrame'>\n",
      "Int64Index: 50000 entries, 3573494 to 2029120\n",
      "Data columns (total 33 columns):\n",
      "CAD_INCIDENT_ID                   50000 non-null int64\n",
      "INCIDENT_DATETIME                 50000 non-null object\n",
      "INITIAL_CALL_TYPE                 50000 non-null object\n",
      "INITIAL_SEVERITY_LEVEL_CODE       50000 non-null int64\n",
      "FINAL_CALL_TYPE                   50000 non-null object\n",
      "FINAL_SEVERITY_LEVEL_CODE         50000 non-null int64\n",
      "FIRST_ASSIGNMENT_DATETIME         49651 non-null object\n",
      "VALID_DISPATCH_RSPNS_TIME_INDC    50000 non-null object\n",
      "DISPATCH_RESPONSE_SECONDS_QY      50000 non-null int64\n",
      "FIRST_ACTIVATION_DATETIME         49575 non-null object\n",
      "FIRST_ON_SCENE_DATETIME           48353 non-null object\n",
      "VALID_INCIDENT_RSPNS_TIME_INDC    50000 non-null object\n",
      "INCIDENT_RESPONSE_SECONDS_QY      48342 non-null float64\n",
      "INCIDENT_TRAVEL_TM_SECONDS_QY     48351 non-null float64\n",
      "FIRST_TO_HOSP_DATETIME            35206 non-null object\n",
      "FIRST_HOSP_ARRIVAL_DATETIME       34944 non-null object\n",
      "INCIDENT_CLOSE_DATETIME           49982 non-null object\n",
      "HELD_INDICATOR                    50000 non-null object\n",
      "INCIDENT_DISPOSITION_CODE         49578 non-null float64\n",
      "BOROUGH                           50000 non-null object\n",
      "INCIDENT_DISPATCH_AREA            50000 non-null object\n",
      "ZIPCODE                           49058 non-null float64\n",
      "POLICEPRECINCT                    49060 non-null float64\n",
      "CITYCOUNCILDISTRICT               49051 non-null float64\n",
      "COMMUNITYDISTRICT                 49060 non-null float64\n",
      "COMMUNITYSCHOOLDISTRICT           49035 non-null float64\n",
      "CONGRESSIONALDISTRICT             49051 non-null float64\n",
      "REOPEN_INDICATOR                  50000 non-null object\n",
      "SPECIAL_EVENT_INDICATOR           50000 non-null object\n",
      "STANDBY_INDICATOR                 50000 non-null object\n",
      "TRANSFER_INDICATOR                50000 non-null object\n",
      "INCIDENT_DATE                     50000 non-null object\n",
      "INCIDENT_TIME                     50000 non-null object\n",
      "dtypes: float64(9), int64(4), object(20)\n",
      "memory usage: 13.0+ MB\n"
     ]
    }
   ],
   "source": [
    "df.info()\n"
   ]
  },
  {
   "cell_type": "code",
   "execution_count": 30,
   "metadata": {},
   "outputs": [],
   "source": [
    "# joining weather to EMS data based on date. weather\n",
    "dfinal = df.merge(weather)"
   ]
  },
  {
   "cell_type": "code",
   "execution_count": 31,
   "metadata": {},
   "outputs": [
    {
     "name": "stdout",
     "output_type": "stream",
     "text": [
      "<class 'pandas.core.frame.DataFrame'>\n",
      "Int64Index: 49890 entries, 0 to 49889\n",
      "Data columns (total 39 columns):\n",
      "CAD_INCIDENT_ID                   49890 non-null int64\n",
      "INCIDENT_DATETIME                 49890 non-null object\n",
      "INITIAL_CALL_TYPE                 49890 non-null object\n",
      "INITIAL_SEVERITY_LEVEL_CODE       49890 non-null int64\n",
      "FINAL_CALL_TYPE                   49890 non-null object\n",
      "FINAL_SEVERITY_LEVEL_CODE         49890 non-null int64\n",
      "FIRST_ASSIGNMENT_DATETIME         49555 non-null object\n",
      "VALID_DISPATCH_RSPNS_TIME_INDC    49890 non-null object\n",
      "DISPATCH_RESPONSE_SECONDS_QY      49890 non-null int64\n",
      "FIRST_ACTIVATION_DATETIME         49484 non-null object\n",
      "FIRST_ON_SCENE_DATETIME           48256 non-null object\n",
      "VALID_INCIDENT_RSPNS_TIME_INDC    49890 non-null object\n",
      "INCIDENT_RESPONSE_SECONDS_QY      48244 non-null float64\n",
      "INCIDENT_TRAVEL_TM_SECONDS_QY     48254 non-null float64\n",
      "FIRST_TO_HOSP_DATETIME            35135 non-null object\n",
      "FIRST_HOSP_ARRIVAL_DATETIME       34868 non-null object\n",
      "INCIDENT_CLOSE_DATETIME           49871 non-null object\n",
      "HELD_INDICATOR                    49890 non-null object\n",
      "INCIDENT_DISPOSITION_CODE         49482 non-null float64\n",
      "BOROUGH                           49890 non-null object\n",
      "INCIDENT_DISPATCH_AREA            49890 non-null object\n",
      "ZIPCODE                           48975 non-null float64\n",
      "POLICEPRECINCT                    48977 non-null float64\n",
      "CITYCOUNCILDISTRICT               48968 non-null float64\n",
      "COMMUNITYDISTRICT                 48977 non-null float64\n",
      "COMMUNITYSCHOOLDISTRICT           48947 non-null float64\n",
      "CONGRESSIONALDISTRICT             48968 non-null float64\n",
      "REOPEN_INDICATOR                  49890 non-null object\n",
      "SPECIAL_EVENT_INDICATOR           49890 non-null object\n",
      "STANDBY_INDICATOR                 49890 non-null object\n",
      "TRANSFER_INDICATOR                49890 non-null object\n",
      "INCIDENT_DATE                     49890 non-null datetime64[ns]\n",
      "INCIDENT_TIME                     49890 non-null object\n",
      "Unnamed: 0                        49890 non-null int64\n",
      "temp_max                          49890 non-null int64\n",
      "temp_min                          49890 non-null int64\n",
      "precipitation                     49890 non-null float64\n",
      "visibility                        49890 non-null int64\n",
      "max_wind_speed                    49890 non-null int64\n",
      "dtypes: datetime64[ns](1), float64(10), int64(9), object(19)\n",
      "memory usage: 15.2+ MB\n"
     ]
    }
   ],
   "source": [
    "dfinal.info()"
   ]
  },
  {
   "cell_type": "code",
   "execution_count": 32,
   "metadata": {},
   "outputs": [],
   "source": [
    "#dropping unwanted columns\n",
    "dfinal=dfinal.drop(['FIRST_ASSIGNMENT_DATETIME', 'CAD_INCIDENT_ID', 'VALID_DISPATCH_RSPNS_TIME_INDC', 'DISPATCH_RESPONSE_SECONDS_QY', 'FIRST_ACTIVATION_DATETIME', 'FIRST_ON_SCENE_DATETIME', 'VALID_INCIDENT_RSPNS_TIME_INDC', 'INCIDENT_RESPONSE_SECONDS_QY', 'INCIDENT_TRAVEL_TM_SECONDS_QY', 'FIRST_TO_HOSP_DATETIME',\n",
    "        'FIRST_HOSP_ARRIVAL_DATETIME', 'INCIDENT_CLOSE_DATETIME', 'HELD_INDICATOR', 'INCIDENT_DISPOSITION_CODE', 'INCIDENT_DISPATCH_AREA', 'POLICEPRECINCT', 'CITYCOUNCILDISTRICT', 'COMMUNITYDISTRICT', 'COMMUNITYSCHOOLDISTRICT', 'CONGRESSIONALDISTRICT', 'REOPEN_INDICATOR', 'SPECIAL_EVENT_INDICATOR', 'STANDBY_INDICATOR', 'TRANSFER_INDICATOR'], axis=1)"
   ]
  },
  {
   "cell_type": "code",
   "execution_count": 33,
   "metadata": {},
   "outputs": [],
   "source": [
    "#Further dropping some columns might add later\n",
    "dfinal=dfinal.drop(['INITIAL_CALL_TYPE', 'INITIAL_SEVERITY_LEVEL_CODE', 'FINAL_CALL_TYPE'], axis=1)\n",
    "dfinal=dfinal.drop(['Unnamed: 0'], axis=1)\n",
    "dfinal=dfinal.drop(['INCIDENT_DATETIME'], axis=1)"
   ]
  },
  {
   "cell_type": "code",
   "execution_count": 34,
   "metadata": {},
   "outputs": [],
   "source": [
    "#dropping zipcode from first model, and BOROUGH\n",
    "dfinal=dfinal.drop(['ZIPCODE'], axis=1)\n",
    "dfinal=dfinal.drop(['BOROUGH'], axis=1)"
   ]
  },
  {
   "cell_type": "code",
   "execution_count": 35,
   "metadata": {},
   "outputs": [
    {
     "data": {
      "text/html": [
       "<div>\n",
       "<style scoped>\n",
       "    .dataframe tbody tr th:only-of-type {\n",
       "        vertical-align: middle;\n",
       "    }\n",
       "\n",
       "    .dataframe tbody tr th {\n",
       "        vertical-align: top;\n",
       "    }\n",
       "\n",
       "    .dataframe thead th {\n",
       "        text-align: right;\n",
       "    }\n",
       "</style>\n",
       "<table border=\"1\" class=\"dataframe\">\n",
       "  <thead>\n",
       "    <tr style=\"text-align: right;\">\n",
       "      <th></th>\n",
       "      <th>FINAL_SEVERITY_LEVEL_CODE</th>\n",
       "      <th>INCIDENT_DATE</th>\n",
       "      <th>INCIDENT_TIME</th>\n",
       "      <th>temp_max</th>\n",
       "      <th>temp_min</th>\n",
       "      <th>precipitation</th>\n",
       "      <th>visibility</th>\n",
       "      <th>max_wind_speed</th>\n",
       "    </tr>\n",
       "  </thead>\n",
       "  <tbody>\n",
       "    <tr>\n",
       "      <td>0</td>\n",
       "      <td>4</td>\n",
       "      <td>2015-08-15</td>\n",
       "      <td>01:40:47 PM</td>\n",
       "      <td>91</td>\n",
       "      <td>75</td>\n",
       "      <td>0.0</td>\n",
       "      <td>10</td>\n",
       "      <td>20</td>\n",
       "    </tr>\n",
       "    <tr>\n",
       "      <td>1</td>\n",
       "      <td>2</td>\n",
       "      <td>2015-08-15</td>\n",
       "      <td>10:20:32 AM</td>\n",
       "      <td>91</td>\n",
       "      <td>75</td>\n",
       "      <td>0.0</td>\n",
       "      <td>10</td>\n",
       "      <td>20</td>\n",
       "    </tr>\n",
       "    <tr>\n",
       "      <td>2</td>\n",
       "      <td>6</td>\n",
       "      <td>2015-08-15</td>\n",
       "      <td>04:05:06 PM</td>\n",
       "      <td>91</td>\n",
       "      <td>75</td>\n",
       "      <td>0.0</td>\n",
       "      <td>10</td>\n",
       "      <td>20</td>\n",
       "    </tr>\n",
       "    <tr>\n",
       "      <td>3</td>\n",
       "      <td>4</td>\n",
       "      <td>2015-08-15</td>\n",
       "      <td>04:11:59 AM</td>\n",
       "      <td>91</td>\n",
       "      <td>75</td>\n",
       "      <td>0.0</td>\n",
       "      <td>10</td>\n",
       "      <td>20</td>\n",
       "    </tr>\n",
       "    <tr>\n",
       "      <td>4</td>\n",
       "      <td>2</td>\n",
       "      <td>2015-08-15</td>\n",
       "      <td>12:38:42 PM</td>\n",
       "      <td>91</td>\n",
       "      <td>75</td>\n",
       "      <td>0.0</td>\n",
       "      <td>10</td>\n",
       "      <td>20</td>\n",
       "    </tr>\n",
       "    <tr>\n",
       "      <td>...</td>\n",
       "      <td>...</td>\n",
       "      <td>...</td>\n",
       "      <td>...</td>\n",
       "      <td>...</td>\n",
       "      <td>...</td>\n",
       "      <td>...</td>\n",
       "      <td>...</td>\n",
       "      <td>...</td>\n",
       "    </tr>\n",
       "    <tr>\n",
       "      <td>49885</td>\n",
       "      <td>4</td>\n",
       "      <td>2013-03-09</td>\n",
       "      <td>04:38:49 PM</td>\n",
       "      <td>54</td>\n",
       "      <td>37</td>\n",
       "      <td>0.0</td>\n",
       "      <td>10</td>\n",
       "      <td>21</td>\n",
       "    </tr>\n",
       "    <tr>\n",
       "      <td>49886</td>\n",
       "      <td>4</td>\n",
       "      <td>2013-03-09</td>\n",
       "      <td>07:31:37 PM</td>\n",
       "      <td>54</td>\n",
       "      <td>37</td>\n",
       "      <td>0.0</td>\n",
       "      <td>10</td>\n",
       "      <td>21</td>\n",
       "    </tr>\n",
       "    <tr>\n",
       "      <td>49887</td>\n",
       "      <td>5</td>\n",
       "      <td>2013-03-09</td>\n",
       "      <td>12:35:57 AM</td>\n",
       "      <td>54</td>\n",
       "      <td>37</td>\n",
       "      <td>0.0</td>\n",
       "      <td>10</td>\n",
       "      <td>21</td>\n",
       "    </tr>\n",
       "    <tr>\n",
       "      <td>49888</td>\n",
       "      <td>5</td>\n",
       "      <td>2013-03-09</td>\n",
       "      <td>04:08:02 AM</td>\n",
       "      <td>54</td>\n",
       "      <td>37</td>\n",
       "      <td>0.0</td>\n",
       "      <td>10</td>\n",
       "      <td>21</td>\n",
       "    </tr>\n",
       "    <tr>\n",
       "      <td>49889</td>\n",
       "      <td>2</td>\n",
       "      <td>2013-03-09</td>\n",
       "      <td>08:54:13 AM</td>\n",
       "      <td>54</td>\n",
       "      <td>37</td>\n",
       "      <td>0.0</td>\n",
       "      <td>10</td>\n",
       "      <td>21</td>\n",
       "    </tr>\n",
       "  </tbody>\n",
       "</table>\n",
       "<p>49890 rows × 8 columns</p>\n",
       "</div>"
      ],
      "text/plain": [
       "       FINAL_SEVERITY_LEVEL_CODE INCIDENT_DATE INCIDENT_TIME  temp_max  \\\n",
       "0                              4    2015-08-15   01:40:47 PM        91   \n",
       "1                              2    2015-08-15   10:20:32 AM        91   \n",
       "2                              6    2015-08-15   04:05:06 PM        91   \n",
       "3                              4    2015-08-15   04:11:59 AM        91   \n",
       "4                              2    2015-08-15   12:38:42 PM        91   \n",
       "...                          ...           ...           ...       ...   \n",
       "49885                          4    2013-03-09   04:38:49 PM        54   \n",
       "49886                          4    2013-03-09   07:31:37 PM        54   \n",
       "49887                          5    2013-03-09   12:35:57 AM        54   \n",
       "49888                          5    2013-03-09   04:08:02 AM        54   \n",
       "49889                          2    2013-03-09   08:54:13 AM        54   \n",
       "\n",
       "       temp_min  precipitation  visibility  max_wind_speed  \n",
       "0            75            0.0          10              20  \n",
       "1            75            0.0          10              20  \n",
       "2            75            0.0          10              20  \n",
       "3            75            0.0          10              20  \n",
       "4            75            0.0          10              20  \n",
       "...         ...            ...         ...             ...  \n",
       "49885        37            0.0          10              21  \n",
       "49886        37            0.0          10              21  \n",
       "49887        37            0.0          10              21  \n",
       "49888        37            0.0          10              21  \n",
       "49889        37            0.0          10              21  \n",
       "\n",
       "[49890 rows x 8 columns]"
      ]
     },
     "execution_count": 35,
     "metadata": {},
     "output_type": "execute_result"
    }
   ],
   "source": [
    "dfinal"
   ]
  },
  {
   "cell_type": "code",
   "execution_count": 36,
   "metadata": {},
   "outputs": [],
   "source": [
    "#making a column for days of the week\n",
    "dfinal['weekday'] = dfinal['INCIDENT_DATE'].dt.dayofweek"
   ]
  },
  {
   "cell_type": "code",
   "execution_count": 37,
   "metadata": {},
   "outputs": [],
   "source": [
    "#adding a column for seasons\n",
    "dfinal['SEASON'] = dfinal['INCIDENT_DATE'].apply(lambda dt: (dt.month%12 + 3)//3)"
   ]
  },
  {
   "cell_type": "code",
   "execution_count": 38,
   "metadata": {},
   "outputs": [],
   "source": [
    "#resorting value of table by datetime descending\n",
    "dfinal = dfinal.sort_values(by='INCIDENT_DATE',ascending=True)"
   ]
  },
  {
   "cell_type": "code",
   "execution_count": 39,
   "metadata": {},
   "outputs": [],
   "source": [
    "from pandas.tseries.holiday import USFederalHolidayCalendar as calendar"
   ]
  },
  {
   "cell_type": "code",
   "execution_count": 40,
   "metadata": {},
   "outputs": [
    {
     "name": "stdout",
     "output_type": "stream",
     "text": [
      "[Holiday: New Years Day (month=1, day=1, observance=<function nearest_workday at 0x1a1b9b5cb0>), Holiday: Martin Luther King Jr. Day (month=1, day=1, offset=<DateOffset: weekday=MO(+3)>), Holiday: Presidents Day (month=2, day=1, offset=<DateOffset: weekday=MO(+3)>), Holiday: Memorial Day (month=5, day=31, offset=<DateOffset: weekday=MO(-1)>), Holiday: July 4th (month=7, day=4, observance=<function nearest_workday at 0x1a1b9b5cb0>), Holiday: Labor Day (month=9, day=1, offset=<DateOffset: weekday=MO(+1)>), Holiday: Columbus Day (month=10, day=1, offset=<DateOffset: weekday=MO(+2)>), Holiday: Veterans Day (month=11, day=11, observance=<function nearest_workday at 0x1a1b9b5cb0>), Holiday: Thanksgiving (month=11, day=1, offset=<DateOffset: weekday=TH(+4)>), Holiday: Christmas (month=12, day=25, observance=<function nearest_workday at 0x1a1b9b5cb0>)]\n"
     ]
    }
   ],
   "source": [
    "# Considered removing holidays, people have off these 10 so keeping them all on\n",
    "print(calendar.rules)"
   ]
  },
  {
   "cell_type": "code",
   "execution_count": 41,
   "metadata": {
    "scrolled": true
   },
   "outputs": [],
   "source": [
    "#Adding a column for holidays\n",
    "\n",
    "cal = calendar()\n",
    "holidays = cal.holidays(start=dfinal['INCIDENT_DATE'].min(), end=dfinal['INCIDENT_DATE'].max())\n",
    "\n",
    "dfinal[\"HOLIDAY\"] = dfinal['INCIDENT_DATE'].isin(holidays.values)"
   ]
  },
  {
   "cell_type": "code",
   "execution_count": 42,
   "metadata": {},
   "outputs": [],
   "source": [
    "#adding columns for total calls per date\n",
    "dfinal[\"CALLS_PER_DAY_NYC\"] = dfinal.INCIDENT_DATE.value_counts\n",
    "dfinal['CALLS_PER_DAY_NYC'] = dfinal.groupby(['INCIDENT_DATE']).transform('count')"
   ]
  },
  {
   "cell_type": "code",
   "execution_count": 43,
   "metadata": {},
   "outputs": [],
   "source": [
    "#Renaming cleaning up column names\n",
    "dfinal.rename(columns={'precipitation':'PRECIPITATION_INCHES', 'visibility':\"VISIBILITY_MILES\", \"temp_max\":'TEMP_MAX_F', 'temp_min':\"TEMP_MIN_F\"}, inplace=True)\n",
    "dfinal.rename(columns={'weekday':'WEEKDAY', 'max_wind_speed':'MAX_WIND_SPEED_MPH'}, inplace=True)"
   ]
  },
  {
   "cell_type": "code",
   "execution_count": 44,
   "metadata": {
    "scrolled": true
   },
   "outputs": [],
   "source": [
    "#Need to remove duplicates so and severity so it is unique for timeseries\n",
    "dfinal = dfinal.drop([\"FINAL_SEVERITY_LEVEL_CODE\", \"INCIDENT_TIME\"], axis = 1)"
   ]
  },
  {
   "cell_type": "code",
   "execution_count": 45,
   "metadata": {},
   "outputs": [],
   "source": [
    "#Test train splitting\n",
    "\n",
    "X= dfinal.drop(['CALLS_PER_DAY_NYC'], axis = 1)\n",
    "y= dfinal['CALLS_PER_DAY_NYC']"
   ]
  },
  {
   "cell_type": "code",
   "execution_count": 46,
   "metadata": {},
   "outputs": [],
   "source": [
    "#Test train splitting\n",
    "from sklearn.model_selection import train_test_split\n",
    "X_train, X_test, y_train, y_test = train_test_split(X, y, test_size=0.30, random_state=39)"
   ]
  },
  {
   "cell_type": "code",
   "execution_count": 55,
   "metadata": {},
   "outputs": [],
   "source": [
    "import numpy as np\n",
    "import pandas as pd\n",
    "import matplotlib.pyplot as plt"
   ]
  },
  {
   "cell_type": "code",
   "execution_count": 48,
   "metadata": {},
   "outputs": [],
   "source": [
    "dfworking=dfinal.drop_duplicates(subset=None, keep='first', inplace=False)"
   ]
  },
  {
   "cell_type": "code",
   "execution_count": 58,
   "metadata": {},
   "outputs": [
    {
     "ename": "KeyError",
     "evalue": "\"None of ['INCIDENT_DATE'] are in the columns\"",
     "output_type": "error",
     "traceback": [
      "\u001b[0;31m---------------------------------------------------------------------------\u001b[0m",
      "\u001b[0;31mKeyError\u001b[0m                                  Traceback (most recent call last)",
      "\u001b[0;32m<ipython-input-58-a89b1a6dc1ba>\u001b[0m in \u001b[0;36m<module>\u001b[0;34m\u001b[0m\n\u001b[0;32m----> 1\u001b[0;31m \u001b[0mdfinal\u001b[0m\u001b[0;34m.\u001b[0m\u001b[0mset_index\u001b[0m\u001b[0;34m(\u001b[0m\u001b[0;34m'INCIDENT_DATE'\u001b[0m\u001b[0;34m,\u001b[0m \u001b[0minplace\u001b[0m\u001b[0;34m=\u001b[0m\u001b[0;32mTrue\u001b[0m\u001b[0;34m)\u001b[0m\u001b[0;34m\u001b[0m\u001b[0;34m\u001b[0m\u001b[0m\n\u001b[0m",
      "\u001b[0;32m~/opt/anaconda3/lib/python3.7/site-packages/pandas/core/frame.py\u001b[0m in \u001b[0;36mset_index\u001b[0;34m(self, keys, drop, append, inplace, verify_integrity)\u001b[0m\n\u001b[1;32m   4394\u001b[0m \u001b[0;34m\u001b[0m\u001b[0m\n\u001b[1;32m   4395\u001b[0m         \u001b[0;32mif\u001b[0m \u001b[0mmissing\u001b[0m\u001b[0;34m:\u001b[0m\u001b[0;34m\u001b[0m\u001b[0;34m\u001b[0m\u001b[0m\n\u001b[0;32m-> 4396\u001b[0;31m             \u001b[0;32mraise\u001b[0m \u001b[0mKeyError\u001b[0m\u001b[0;34m(\u001b[0m\u001b[0;34m\"None of {} are in the columns\"\u001b[0m\u001b[0;34m.\u001b[0m\u001b[0mformat\u001b[0m\u001b[0;34m(\u001b[0m\u001b[0mmissing\u001b[0m\u001b[0;34m)\u001b[0m\u001b[0;34m)\u001b[0m\u001b[0;34m\u001b[0m\u001b[0;34m\u001b[0m\u001b[0m\n\u001b[0m\u001b[1;32m   4397\u001b[0m \u001b[0;34m\u001b[0m\u001b[0m\n\u001b[1;32m   4398\u001b[0m         \u001b[0;32mif\u001b[0m \u001b[0minplace\u001b[0m\u001b[0;34m:\u001b[0m\u001b[0;34m\u001b[0m\u001b[0;34m\u001b[0m\u001b[0m\n",
      "\u001b[0;31mKeyError\u001b[0m: \"None of ['INCIDENT_DATE'] are in the columns\""
     ]
    }
   ],
   "source": []
  },
  {
   "cell_type": "code",
   "execution_count": 62,
   "metadata": {},
   "outputs": [
    {
     "ename": "KeyError",
     "evalue": "\"None of ['INCIDENT_DATE'] are in the columns\"",
     "output_type": "error",
     "traceback": [
      "\u001b[0;31m---------------------------------------------------------------------------\u001b[0m",
      "\u001b[0;31mKeyError\u001b[0m                                  Traceback (most recent call last)",
      "\u001b[0;32m<ipython-input-62-69df12b303d5>\u001b[0m in \u001b[0;36m<module>\u001b[0;34m\u001b[0m\n\u001b[0;32m----> 1\u001b[0;31m \u001b[0mdfworking\u001b[0m\u001b[0;34m.\u001b[0m\u001b[0mset_index\u001b[0m\u001b[0;34m(\u001b[0m\u001b[0;34m'INCIDENT_DATE'\u001b[0m\u001b[0;34m,\u001b[0m \u001b[0minplace\u001b[0m\u001b[0;34m=\u001b[0m\u001b[0;32mTrue\u001b[0m\u001b[0;34m)\u001b[0m\u001b[0;34m\u001b[0m\u001b[0;34m\u001b[0m\u001b[0m\n\u001b[0m",
      "\u001b[0;32m~/opt/anaconda3/lib/python3.7/site-packages/pandas/core/frame.py\u001b[0m in \u001b[0;36mset_index\u001b[0;34m(self, keys, drop, append, inplace, verify_integrity)\u001b[0m\n\u001b[1;32m   4394\u001b[0m \u001b[0;34m\u001b[0m\u001b[0m\n\u001b[1;32m   4395\u001b[0m         \u001b[0;32mif\u001b[0m \u001b[0mmissing\u001b[0m\u001b[0;34m:\u001b[0m\u001b[0;34m\u001b[0m\u001b[0;34m\u001b[0m\u001b[0m\n\u001b[0;32m-> 4396\u001b[0;31m             \u001b[0;32mraise\u001b[0m \u001b[0mKeyError\u001b[0m\u001b[0;34m(\u001b[0m\u001b[0;34m\"None of {} are in the columns\"\u001b[0m\u001b[0;34m.\u001b[0m\u001b[0mformat\u001b[0m\u001b[0;34m(\u001b[0m\u001b[0mmissing\u001b[0m\u001b[0;34m)\u001b[0m\u001b[0;34m)\u001b[0m\u001b[0;34m\u001b[0m\u001b[0;34m\u001b[0m\u001b[0m\n\u001b[0m\u001b[1;32m   4397\u001b[0m \u001b[0;34m\u001b[0m\u001b[0m\n\u001b[1;32m   4398\u001b[0m         \u001b[0;32mif\u001b[0m \u001b[0minplace\u001b[0m\u001b[0;34m:\u001b[0m\u001b[0;34m\u001b[0m\u001b[0;34m\u001b[0m\u001b[0m\n",
      "\u001b[0;31mKeyError\u001b[0m: \"None of ['INCIDENT_DATE'] are in the columns\""
     ]
    }
   ],
   "source": [
    "dfworking.set_index('INCIDENT_DATE', inplace=True)"
   ]
  },
  {
   "cell_type": "code",
   "execution_count": 64,
   "metadata": {},
   "outputs": [
    {
     "data": {
      "image/png": "[encoded data removed]",
      "text/plain": [
       "<Figure size 1008x360 with 1 Axes>"
      ]
     },
     "metadata": {
      "needs_background": "light"
     },
     "output_type": "display_data"
    }
   ],
   "source": [
    "dfinal[\"CALLS_PER_DAY_NYC\"].plot(figsize = (14,5));"
   ]
  },
  {
   "cell_type": "code",
   "execution_count": 72,
   "metadata": {
    "scrolled": true
   },
   "outputs": [
    {
     "data": {
      "image/png": "[encoded data removed]",
      "text/plain": [
       "<Figure size 1008x360 with 1 Axes>"
      ]
     },
     "metadata": {
      "needs_background": "light"
     },
     "output_type": "display_data"
    }
   ],
   "source": [
    "dfworking.plot(figsize = (14,5));"
   ]
  },
  {
   "cell_type": "code",
   "execution_count": 75,
   "metadata": {
    "scrolled": true
   },
   "outputs": [
    {
     "data": {
      "image/png": "[encoded data removed]",
      "text/plain": [
       "<Figure size 1440x432 with 1 Axes>"
      ]
     },
     "metadata": {
      "needs_background": "light"
     },
     "output_type": "display_data"
    }
   ],
   "source": [
    "dfworking[\"CALLS_PER_DAY_NYC\"].plot(figsize = (20,6), style = '.b');"
   ]
  },
  {
   "cell_type": "code",
   "execution_count": 78,
   "metadata": {
    "scrolled": true
   },
   "outputs": [
    {
     "data": {
      "image/png": "[encoded data removed]",
      "text/plain": [
       "<Figure size 720x432 with 1 Axes>"
      ]
     },
     "metadata": {
      "needs_background": "light"
     },
     "output_type": "display_data"
    }
   ],
   "source": [
    "dfworking[\"CALLS_PER_DAY_NYC\"].hist(figsize = (10,6));"
   ]
  },
  {
   "cell_type": "code",
   "execution_count": 79,
   "metadata": {
    "scrolled": true
   },
   "outputs": [
    {
     "data": {
      "image/png": "[encoded data removed]",
      "text/plain": [
       "<Figure size 1080x720 with 1 Axes>"
      ]
     },
     "metadata": {
      "needs_background": "light"
     },
     "output_type": "display_data"
    }
   ],
   "source": [
    "# Plot a density plot for nyse dataset\n",
    "dfworking[\"CALLS_PER_DAY_NYC\"].plot(kind='kde', figsize = (15,10));"
   ]
  },
  {
   "cell_type": "code",
   "execution_count": null,
   "metadata": {},
   "outputs": [],
   "source": []
  },
  {
   "cell_type": "code",
   "execution_count": 70,
   "metadata": {},
   "outputs": [
    {
     "data": {
      "text/html": [
       "<div>\n",
       "<style scoped>\n",
       "    .dataframe tbody tr th:only-of-type {\n",
       "        vertical-align: middle;\n",
       "    }\n",
       "\n",
       "    .dataframe tbody tr th {\n",
       "        vertical-align: top;\n",
       "    }\n",
       "\n",
       "    .dataframe thead th {\n",
       "        text-align: right;\n",
       "    }\n",
       "</style>\n",
       "<table border=\"1\" class=\"dataframe\">\n",
       "  <thead>\n",
       "    <tr style=\"text-align: right;\">\n",
       "      <th></th>\n",
       "      <th>TEMP_MAX_F</th>\n",
       "      <th>TEMP_MIN_F</th>\n",
       "      <th>PRECIPITATION_INCHES</th>\n",
       "      <th>VISIBILITY_MILES</th>\n",
       "      <th>MAX_WIND_SPEED_MPH</th>\n",
       "      <th>WEEKDAY</th>\n",
       "      <th>SEASON</th>\n",
       "      <th>HOLIDAY</th>\n",
       "      <th>CALLS_PER_DAY_NYC</th>\n",
       "    </tr>\n",
       "    <tr>\n",
       "      <th>INCIDENT_DATE</th>\n",
       "      <th></th>\n",
       "      <th></th>\n",
       "      <th></th>\n",
       "      <th></th>\n",
       "      <th></th>\n",
       "      <th></th>\n",
       "      <th></th>\n",
       "      <th></th>\n",
       "      <th></th>\n",
       "    </tr>\n",
       "  </thead>\n",
       "  <tbody>\n",
       "    <tr>\n",
       "      <td>2013-01-02</td>\n",
       "      <td>34</td>\n",
       "      <td>24</td>\n",
       "      <td>0.0</td>\n",
       "      <td>10</td>\n",
       "      <td>18</td>\n",
       "      <td>2</td>\n",
       "      <td>1</td>\n",
       "      <td>False</td>\n",
       "      <td>30</td>\n",
       "    </tr>\n",
       "    <tr>\n",
       "      <td>2013-01-04</td>\n",
       "      <td>38</td>\n",
       "      <td>34</td>\n",
       "      <td>0.0</td>\n",
       "      <td>10</td>\n",
       "      <td>20</td>\n",
       "      <td>4</td>\n",
       "      <td>1</td>\n",
       "      <td>False</td>\n",
       "      <td>25</td>\n",
       "    </tr>\n",
       "    <tr>\n",
       "      <td>2013-01-05</td>\n",
       "      <td>43</td>\n",
       "      <td>34</td>\n",
       "      <td>0.0</td>\n",
       "      <td>10</td>\n",
       "      <td>18</td>\n",
       "      <td>5</td>\n",
       "      <td>1</td>\n",
       "      <td>False</td>\n",
       "      <td>22</td>\n",
       "    </tr>\n",
       "    <tr>\n",
       "      <td>2013-01-06</td>\n",
       "      <td>46</td>\n",
       "      <td>35</td>\n",
       "      <td>0.0</td>\n",
       "      <td>10</td>\n",
       "      <td>16</td>\n",
       "      <td>6</td>\n",
       "      <td>1</td>\n",
       "      <td>False</td>\n",
       "      <td>20</td>\n",
       "    </tr>\n",
       "    <tr>\n",
       "      <td>2013-01-07</td>\n",
       "      <td>45</td>\n",
       "      <td>38</td>\n",
       "      <td>0.0</td>\n",
       "      <td>10</td>\n",
       "      <td>16</td>\n",
       "      <td>0</td>\n",
       "      <td>1</td>\n",
       "      <td>False</td>\n",
       "      <td>23</td>\n",
       "    </tr>\n",
       "  </tbody>\n",
       "</table>\n",
       "</div>"
      ],
      "text/plain": [
       "               TEMP_MAX_F  TEMP_MIN_F  PRECIPITATION_INCHES  VISIBILITY_MILES  \\\n",
       "INCIDENT_DATE                                                                   \n",
       "2013-01-02             34          24                   0.0                10   \n",
       "2013-01-04             38          34                   0.0                10   \n",
       "2013-01-05             43          34                   0.0                10   \n",
       "2013-01-06             46          35                   0.0                10   \n",
       "2013-01-07             45          38                   0.0                10   \n",
       "\n",
       "               MAX_WIND_SPEED_MPH  WEEKDAY  SEASON  HOLIDAY  CALLS_PER_DAY_NYC  \n",
       "INCIDENT_DATE                                                                   \n",
       "2013-01-02                     18        2       1    False                 30  \n",
       "2013-01-04                     20        4       1    False                 25  \n",
       "2013-01-05                     18        5       1    False                 22  \n",
       "2013-01-06                     16        6       1    False                 20  \n",
       "2013-01-07                     16        0       1    False                 23  "
      ]
     },
     "execution_count": 70,
     "metadata": {},
     "output_type": "execute_result"
    }
   ],
   "source": [
    "dfworking.head()"
   ]
  },
  {
   "cell_type": "code",
   "execution_count": 67,
   "metadata": {},
   "outputs": [
    {
     "data": {
      "text/html": [
       "<div>\n",
       "<style scoped>\n",
       "    .dataframe tbody tr th:only-of-type {\n",
       "        vertical-align: middle;\n",
       "    }\n",
       "\n",
       "    .dataframe tbody tr th {\n",
       "        vertical-align: top;\n",
       "    }\n",
       "\n",
       "    .dataframe thead th {\n",
       "        text-align: right;\n",
       "    }\n",
       "</style>\n",
       "<table border=\"1\" class=\"dataframe\">\n",
       "  <thead>\n",
       "    <tr style=\"text-align: right;\">\n",
       "      <th></th>\n",
       "      <th>TEMP_MAX_F</th>\n",
       "      <th>TEMP_MIN_F</th>\n",
       "      <th>PRECIPITATION_INCHES</th>\n",
       "      <th>VISIBILITY_MILES</th>\n",
       "      <th>MAX_WIND_SPEED_MPH</th>\n",
       "      <th>WEEKDAY</th>\n",
       "      <th>SEASON</th>\n",
       "      <th>HOLIDAY</th>\n",
       "      <th>CALLS_PER_DAY_NYC</th>\n",
       "    </tr>\n",
       "    <tr>\n",
       "      <th>INCIDENT_DATE</th>\n",
       "      <th></th>\n",
       "      <th></th>\n",
       "      <th></th>\n",
       "      <th></th>\n",
       "      <th></th>\n",
       "      <th></th>\n",
       "      <th></th>\n",
       "      <th></th>\n",
       "      <th></th>\n",
       "    </tr>\n",
       "  </thead>\n",
       "  <tbody>\n",
       "    <tr>\n",
       "      <td>2013-01-02</td>\n",
       "      <td>34</td>\n",
       "      <td>24</td>\n",
       "      <td>0.0</td>\n",
       "      <td>10</td>\n",
       "      <td>18</td>\n",
       "      <td>2</td>\n",
       "      <td>1</td>\n",
       "      <td>False</td>\n",
       "      <td>30</td>\n",
       "    </tr>\n",
       "    <tr>\n",
       "      <td>2013-01-02</td>\n",
       "      <td>34</td>\n",
       "      <td>24</td>\n",
       "      <td>0.0</td>\n",
       "      <td>10</td>\n",
       "      <td>18</td>\n",
       "      <td>2</td>\n",
       "      <td>1</td>\n",
       "      <td>False</td>\n",
       "      <td>30</td>\n",
       "    </tr>\n",
       "    <tr>\n",
       "      <td>2013-01-02</td>\n",
       "      <td>34</td>\n",
       "      <td>24</td>\n",
       "      <td>0.0</td>\n",
       "      <td>10</td>\n",
       "      <td>18</td>\n",
       "      <td>2</td>\n",
       "      <td>1</td>\n",
       "      <td>False</td>\n",
       "      <td>30</td>\n",
       "    </tr>\n",
       "    <tr>\n",
       "      <td>2013-01-02</td>\n",
       "      <td>34</td>\n",
       "      <td>24</td>\n",
       "      <td>0.0</td>\n",
       "      <td>10</td>\n",
       "      <td>18</td>\n",
       "      <td>2</td>\n",
       "      <td>1</td>\n",
       "      <td>False</td>\n",
       "      <td>30</td>\n",
       "    </tr>\n",
       "    <tr>\n",
       "      <td>2013-01-02</td>\n",
       "      <td>34</td>\n",
       "      <td>24</td>\n",
       "      <td>0.0</td>\n",
       "      <td>10</td>\n",
       "      <td>18</td>\n",
       "      <td>2</td>\n",
       "      <td>1</td>\n",
       "      <td>False</td>\n",
       "      <td>30</td>\n",
       "    </tr>\n",
       "  </tbody>\n",
       "</table>\n",
       "</div>"
      ],
      "text/plain": [
       "               TEMP_MAX_F  TEMP_MIN_F  PRECIPITATION_INCHES  VISIBILITY_MILES  \\\n",
       "INCIDENT_DATE                                                                   \n",
       "2013-01-02             34          24                   0.0                10   \n",
       "2013-01-02             34          24                   0.0                10   \n",
       "2013-01-02             34          24                   0.0                10   \n",
       "2013-01-02             34          24                   0.0                10   \n",
       "2013-01-02             34          24                   0.0                10   \n",
       "\n",
       "               MAX_WIND_SPEED_MPH  WEEKDAY  SEASON  HOLIDAY  CALLS_PER_DAY_NYC  \n",
       "INCIDENT_DATE                                                                   \n",
       "2013-01-02                     18        2       1    False                 30  \n",
       "2013-01-02                     18        2       1    False                 30  \n",
       "2013-01-02                     18        2       1    False                 30  \n",
       "2013-01-02                     18        2       1    False                 30  \n",
       "2013-01-02                     18        2       1    False                 30  "
      ]
     },
     "execution_count": 67,
     "metadata": {},
     "output_type": "execute_result"
    }
   ],
   "source": [
    "dfinal.head()"
   ]
  },
  {
   "cell_type": "code",
   "execution_count": null,
   "metadata": {},
   "outputs": [],
   "source": []
  }
 ],
 "metadata": {
  "kernelspec": {
   "display_name": "Python 3",
   "language": "python",
   "name": "python3"
  },
  "language_info": {
   "codemirror_mode": {
    "name": "ipython",
    "version": 3
   },
   "file_extension": ".py",
   "mimetype": "text/x-python",
   "name": "python",
   "nbconvert_exporter": "python",
   "pygments_lexer": "ipython3",
   "version": "3.7.4"
  }
 },
 "nbformat": 4,
 "nbformat_minor": 2
}
